{
 "cells": [
  {
   "cell_type": "code",
   "execution_count": 1,
   "id": "49c022e3-63a5-4ca8-a1d9-1dda30b93716",
   "metadata": {},
   "outputs": [
    {
     "data": {
      "text/plain": [
       "[1, 22, 34, \"34\", \"John\", [1, 2]]"
      ]
     },
     "execution_count": 1,
     "metadata": {},
     "output_type": "execute_result"
    }
   ],
   "source": [
    "X = [1, 22, 34, \"34\", \"John\", [1,2]]"
   ]
  },
  {
   "cell_type": "code",
   "execution_count": 2,
   "id": "28c74878-1982-4b8c-9e7d-991c3b6f372f",
   "metadata": {},
   "outputs": [
    {
     "data": {
      "text/plain": [
       "1"
      ]
     },
     "execution_count": 2,
     "metadata": {},
     "output_type": "execute_result"
    }
   ],
   "source": [
    "X[0]"
   ]
  },
  {
   "cell_type": "code",
   "execution_count": 3,
   "id": "0237739d-4b98-440b-8ff6-84ba6e7600b0",
   "metadata": {},
   "outputs": [
    {
     "data": {
      "text/plain": [
       "\"John\""
      ]
     },
     "execution_count": 3,
     "metadata": {},
     "output_type": "execute_result"
    }
   ],
   "source": [
    "X[4]"
   ]
  },
  {
   "cell_type": "code",
   "execution_count": 4,
   "id": "ec5d7623-ddec-49ff-83c4-67ede5fd463a",
   "metadata": {},
   "outputs": [
    {
     "data": {
      "text/plain": [
       "[1, 2]"
      ]
     },
     "execution_count": 4,
     "metadata": {},
     "output_type": "execute_result"
    }
   ],
   "source": [
    "X[-1]"
   ]
  },
  {
   "cell_type": "code",
   "execution_count": 5,
   "id": "61479be4-dd86-4fa3-b076-52afaf900808",
   "metadata": {},
   "outputs": [
    {
     "data": {
      "text/plain": [
       "[22, 34, \"34\"]"
      ]
     },
     "execution_count": 5,
     "metadata": {},
     "output_type": "execute_result"
    }
   ],
   "source": [
    "X[1,3]"
   ]
  },
  {
   "cell_type": "code",
   "execution_count": 6,
   "id": "01ee4cd1-a12a-4d01-87e0-1a36e0eb05df",
   "metadata": {},
   "outputs": [
    {
     "data": {
      "text/plain": [
       "[34, \"34\", \"John\"]"
      ]
     },
     "execution_count": 6,
     "metadata": {},
     "output_type": "execute_result"
    }
   ],
   "source": [
    "X[2..4]"
   ]
  },
  {
   "cell_type": "code",
   "execution_count": 7,
   "id": "72b1d15a-3239-4144-80d9-aafd616849f8",
   "metadata": {},
   "outputs": [
    {
     "data": {
      "text/plain": [
       "6"
      ]
     },
     "execution_count": 7,
     "metadata": {},
     "output_type": "execute_result"
    }
   ],
   "source": [
    "X.length"
   ]
  },
  {
   "cell_type": "code",
   "execution_count": 8,
   "id": "aa566c92-d430-40ac-a381-1f1231fdeee6",
   "metadata": {},
   "outputs": [
    {
     "data": {
      "text/plain": [
       "[nil, nil, nil, nil, nil, nil, nil, nil, nil, nil, nil, nil, nil, nil, nil, nil, nil, nil, nil, nil]"
      ]
     },
     "execution_count": 8,
     "metadata": {},
     "output_type": "execute_result"
    }
   ],
   "source": [
    "Y = Array.new(20)"
   ]
  },
  {
   "cell_type": "code",
   "execution_count": 9,
   "id": "3e726f41-d9e4-461c-b63c-6c1fe4b7fbfb",
   "metadata": {},
   "outputs": [
    {
     "data": {
      "text/plain": [
       "[\"John\", \"John\", \"John\", \"John\"]"
      ]
     },
     "execution_count": 9,
     "metadata": {},
     "output_type": "execute_result"
    }
   ],
   "source": [
    "Z= Array.new(4, \"John\")"
   ]
  },
  {
   "cell_type": "code",
   "execution_count": 10,
   "id": "7d3f7424-069e-4610-b6a6-e2089fb7ed41",
   "metadata": {},
   "outputs": [
    {
     "data": {
      "text/plain": [
       "[0, 2, 4, 6, 8, 10, 12, 14, 16, 18]"
      ]
     },
     "execution_count": 10,
     "metadata": {},
     "output_type": "execute_result"
    }
   ],
   "source": [
    "A = Array.new(10) { |e| e = e * 2 }"
   ]
  },
  {
   "cell_type": "code",
   "execution_count": 11,
   "id": "56a926ad-2948-4f1f-aaf1-93393c1c1fa9",
   "metadata": {},
   "outputs": [
    {
     "data": {
      "text/plain": [
       "8"
      ]
     },
     "execution_count": 11,
     "metadata": {},
     "output_type": "execute_result"
    }
   ],
   "source": [
    "A.at(4)"
   ]
  },
  {
   "cell_type": "code",
   "execution_count": 12,
   "id": "cad7493a-52d8-4e45-a907-ec6e29ee4ad6",
   "metadata": {},
   "outputs": [
    {
     "data": {
      "text/plain": [
       "10"
      ]
     },
     "execution_count": 12,
     "metadata": {},
     "output_type": "execute_result"
    }
   ],
   "source": [
    "A.fetch(5)"
   ]
  },
  {
   "cell_type": "code",
   "execution_count": 13,
   "id": "3921a80d-44d8-40fb-81c3-d6e363606dc1",
   "metadata": {},
   "outputs": [
    {
     "data": {
      "text/plain": [
       "0"
      ]
     },
     "execution_count": 13,
     "metadata": {},
     "output_type": "execute_result"
    }
   ],
   "source": [
    "A.first"
   ]
  },
  {
   "cell_type": "code",
   "execution_count": 14,
   "id": "156b01c6-e674-4f11-a100-7bfe5d87342f",
   "metadata": {},
   "outputs": [
    {
     "data": {
      "text/plain": [
       "18"
      ]
     },
     "execution_count": 14,
     "metadata": {},
     "output_type": "execute_result"
    }
   ],
   "source": [
    "A.last"
   ]
  },
  {
   "cell_type": "code",
   "execution_count": 15,
   "id": "9bfd0a6b-f050-4ad5-838a-855a2b4cc5d6",
   "metadata": {},
   "outputs": [
    {
     "data": {
      "text/plain": [
       "[0, 2, 4, 6]"
      ]
     },
     "execution_count": 15,
     "metadata": {},
     "output_type": "execute_result"
    }
   ],
   "source": [
    "A.take(4)"
   ]
  },
  {
   "cell_type": "code",
   "execution_count": 16,
   "id": "183bb0e9-9cf3-43ac-bf43-a1dd538e5f7d",
   "metadata": {},
   "outputs": [
    {
     "data": {
      "text/plain": [
       "[6, 8, 10, 12, 14, 16, 18]"
      ]
     },
     "execution_count": 16,
     "metadata": {},
     "output_type": "execute_result"
    }
   ],
   "source": [
    "A.drop(3)"
   ]
  },
  {
   "cell_type": "code",
   "execution_count": 17,
   "id": "4c5885d6-48d2-4c28-8476-5ea0e020119d",
   "metadata": {},
   "outputs": [
    {
     "data": {
      "text/plain": [
       "10"
      ]
     },
     "execution_count": 17,
     "metadata": {},
     "output_type": "execute_result"
    }
   ],
   "source": [
    "A.count"
   ]
  },
  {
   "cell_type": "code",
   "execution_count": 18,
   "id": "f3068f99-2ced-46f6-aab2-18719ee5d574",
   "metadata": {},
   "outputs": [
    {
     "data": {
      "text/plain": [
       "false"
      ]
     },
     "execution_count": 18,
     "metadata": {},
     "output_type": "execute_result"
    }
   ],
   "source": [
    "A.empty?"
   ]
  },
  {
   "cell_type": "code",
   "execution_count": 19,
   "id": "79729bfd-e9e6-48bc-93d4-688a668d682b",
   "metadata": {},
   "outputs": [
    {
     "data": {
      "text/plain": [
       "true"
      ]
     },
     "execution_count": 19,
     "metadata": {},
     "output_type": "execute_result"
    }
   ],
   "source": [
    "A.include?(16)"
   ]
  },
  {
   "cell_type": "code",
   "execution_count": 20,
   "id": "a7e15a67-9805-4a1c-bcc1-e6b11a84de90",
   "metadata": {},
   "outputs": [
    {
     "data": {
      "text/plain": [
       "false"
      ]
     },
     "execution_count": 20,
     "metadata": {},
     "output_type": "execute_result"
    }
   ],
   "source": [
    "A.include?(20)"
   ]
  },
  {
   "cell_type": "code",
   "execution_count": 21,
   "id": "f12fd7c9-8e23-45ba-8882-43b506163c03",
   "metadata": {},
   "outputs": [
    {
     "data": {
      "text/plain": [
       "[0, 2, 4, 6, 8, 10, 12, 14, 16, 18, 5]"
      ]
     },
     "execution_count": 21,
     "metadata": {},
     "output_type": "execute_result"
    }
   ],
   "source": [
    "A.push(5)"
   ]
  },
  {
   "cell_type": "code",
   "execution_count": 22,
   "id": "93bcba37-b5af-4d5c-991b-947e10085125",
   "metadata": {},
   "outputs": [
    {
     "data": {
      "text/plain": [
       "[0, 2, 4, 6, 8, 10, 12, 14, 16, 18, 5, 6]"
      ]
     },
     "execution_count": 22,
     "metadata": {},
     "output_type": "execute_result"
    }
   ],
   "source": [
    "A<<6"
   ]
  },
  {
   "cell_type": "code",
   "execution_count": 23,
   "id": "b4dd7284-04c5-4a8c-9d57-aad70eb63a6f",
   "metadata": {},
   "outputs": [
    {
     "data": {
      "text/plain": [
       "[0, 0, 2, 4, 6, 8, 10, 12, 14, 16, 18, 5, 6]"
      ]
     },
     "execution_count": 23,
     "metadata": {},
     "output_type": "execute_result"
    }
   ],
   "source": [
    "A.unshift(0)"
   ]
  },
  {
   "cell_type": "code",
   "execution_count": 24,
   "id": "2b7409f4-937b-405d-830f-b41642931d16",
   "metadata": {},
   "outputs": [
    {
     "data": {
      "text/plain": [
       "[0, 0, 2, \"John\", 4, 6, 8, 10, 12, 14, 16, 18, 5, 6]"
      ]
     },
     "execution_count": 24,
     "metadata": {},
     "output_type": "execute_result"
    }
   ],
   "source": [
    "A.insert(3, 'John')"
   ]
  },
  {
   "cell_type": "code",
   "execution_count": 25,
   "id": "8ac59500-f8fa-46fe-b594-20f012f08ae9",
   "metadata": {},
   "outputs": [
    {
     "data": {
      "text/plain": [
       "[0, 0, 2, \"John\", \"Adam\", \"Green\", \"John\", 4, 6, 8, 10, 12, 14, 16, 18, 5, 6]"
      ]
     },
     "execution_count": 25,
     "metadata": {},
     "output_type": "execute_result"
    }
   ],
   "source": [
    "A.insert(3, 'John', 'Adam', 'Green')"
   ]
  },
  {
   "cell_type": "code",
   "execution_count": 26,
   "id": "af1e0ec6-b54f-4777-bdad-de6f0ee8080c",
   "metadata": {},
   "outputs": [
    {
     "data": {
      "text/plain": [
       "6"
      ]
     },
     "execution_count": 26,
     "metadata": {},
     "output_type": "execute_result"
    }
   ],
   "source": [
    "A.pop"
   ]
  },
  {
   "cell_type": "code",
   "execution_count": 27,
   "id": "d9660f7a-fcfe-4acd-bf62-9180df46acdb",
   "metadata": {},
   "outputs": [
    {
     "data": {
      "text/plain": [
       "2"
      ]
     },
     "execution_count": 27,
     "metadata": {},
     "output_type": "execute_result"
    }
   ],
   "source": [
    "A.delete_at(2)"
   ]
  },
  {
   "cell_type": "code",
   "execution_count": 28,
   "id": "58d7e3f5-a529-40df-956f-a6f34ab5ebbf",
   "metadata": {},
   "outputs": [
    {
     "data": {
      "text/plain": [
       "[0, 0, \"John\", \"Adam\", \"Green\", \"John\", 4, 6, 8, 10, 12, 14, 16, 18, 5]"
      ]
     },
     "execution_count": 28,
     "metadata": {},
     "output_type": "execute_result"
    }
   ],
   "source": [
    "A"
   ]
  },
  {
   "cell_type": "code",
   "execution_count": 29,
   "id": "1adc0080-987a-453a-b280-ee7a51873b35",
   "metadata": {},
   "outputs": [
    {
     "data": {
      "text/plain": [
       "0"
      ]
     },
     "execution_count": 29,
     "metadata": {},
     "output_type": "execute_result"
    }
   ],
   "source": [
    "A.delete(0)"
   ]
  },
  {
   "cell_type": "code",
   "execution_count": 30,
   "id": "4d86043e-0e4b-4b2a-8cd4-2803a3e89a5e",
   "metadata": {},
   "outputs": [
    {
     "data": {
      "text/plain": [
       "[\"John\", \"Adam\", \"Green\", \"John\", 4, 6, 8, 10, 12, 14, 16, 18, 5]"
      ]
     },
     "execution_count": 30,
     "metadata": {},
     "output_type": "execute_result"
    }
   ],
   "source": [
    "A"
   ]
  },
  {
   "cell_type": "code",
   "execution_count": 31,
   "id": "0cddc2be-7674-44b9-9e18-10743df36e94",
   "metadata": {},
   "outputs": [],
   "source": [
    "A.compact!"
   ]
  },
  {
   "cell_type": "code",
   "execution_count": 32,
   "id": "6fa87f63-e6f0-47ca-9c42-ac50b8ee6c3c",
   "metadata": {},
   "outputs": [
    {
     "data": {
      "text/plain": [
       "[\"John\", \"Adam\", \"Green\", \"John\", 4, 6, 8, 10, 12, 14, 16, 18, 5]"
      ]
     },
     "execution_count": 32,
     "metadata": {},
     "output_type": "execute_result"
    }
   ],
   "source": [
    "A"
   ]
  },
  {
   "cell_type": "code",
   "execution_count": 33,
   "id": "9d184cda-ec31-41ad-b239-3cecf84270f7",
   "metadata": {},
   "outputs": [
    {
     "data": {
      "text/plain": [
       "[\"John\", \"Adam\", \"Green\", 0, \"John\", 4, 6, 8, 10, 12, 14, 16, 18, 5]"
      ]
     },
     "execution_count": 33,
     "metadata": {},
     "output_type": "execute_result"
    }
   ],
   "source": [
    "A.insert(3, 0)"
   ]
  },
  {
   "cell_type": "code",
   "execution_count": 34,
   "id": "afb4847f-1dfc-4004-8847-19248ba88bfe",
   "metadata": {},
   "outputs": [
    {
     "data": {
      "text/plain": [
       "[\"John\", \"Adam\", \"Green\", 0, 0, \"John\", 4, 6, 8, 10, 12, 14, 16, 18, 5]"
      ]
     },
     "execution_count": 34,
     "metadata": {},
     "output_type": "execute_result"
    }
   ],
   "source": [
    "A.insert(3, 0)"
   ]
  },
  {
   "cell_type": "code",
   "execution_count": 35,
   "id": "0fe9bb5c-9998-4a02-8d40-c5ada47ea5f8",
   "metadata": {},
   "outputs": [
    {
     "data": {
      "text/plain": [
       "[\"John\", \"Adam\", \"Green\", 0, 4, 6, 8, 10, 12, 14, 16, 18, 5]"
      ]
     },
     "execution_count": 35,
     "metadata": {},
     "output_type": "execute_result"
    }
   ],
   "source": [
    "A.uniq"
   ]
  },
  {
   "cell_type": "code",
   "execution_count": 36,
   "id": "c3c66430-9703-495b-a27e-9b5cf241e930",
   "metadata": {},
   "outputs": [
    {
     "data": {
      "text/plain": [
       "[0, 2, 4, 6, 8, 10, 12, 14, 16, 18]"
      ]
     },
     "execution_count": 36,
     "metadata": {},
     "output_type": "execute_result"
    }
   ],
   "source": [
    "C = Array.new(10) { |e| e = e * 2 }\n",
    "C"
   ]
  },
  {
   "cell_type": "code",
   "execution_count": 37,
   "id": "66bf3827-ea64-47c7-8b63-f6eb42b7e904",
   "metadata": {},
   "outputs": [
    {
     "data": {
      "text/plain": [
       "[0, 4, 8, 12, 16, 20, 24, 28, 32, 36]"
      ]
     },
     "execution_count": 37,
     "metadata": {},
     "output_type": "execute_result"
    }
   ],
   "source": [
    "C.map {|a| 2*a}"
   ]
  },
  {
   "cell_type": "code",
   "execution_count": 38,
   "id": "a254ccb4-b7e0-4225-93bb-037faa79e18b",
   "metadata": {},
   "outputs": [
    {
     "data": {
      "text/plain": [
       "[0, 2, 4, 6, 8, 10, 12, 14, 16, 18]"
      ]
     },
     "execution_count": 38,
     "metadata": {},
     "output_type": "execute_result"
    }
   ],
   "source": [
    "D = Array.new(10) { |e| e = e * 2 }\n",
    "D"
   ]
  },
  {
   "cell_type": "code",
   "execution_count": 39,
   "id": "c9f94134-8fa7-4757-a6a4-5ebe74170754",
   "metadata": {},
   "outputs": [
    {
     "data": {
      "text/plain": [
       "[6, 8, 10, 12, 14, 16, 18]"
      ]
     },
     "execution_count": 39,
     "metadata": {},
     "output_type": "execute_result"
    }
   ],
   "source": [
    "D.select {|a| a > 5} "
   ]
  },
  {
   "cell_type": "code",
   "execution_count": 40,
   "id": "797e89a3-b5d6-4644-9ba5-6d77834bc4e1",
   "metadata": {},
   "outputs": [
    {
     "data": {
      "text/plain": [
       "[0, 2, 4, 6, 8, 10, 12, 14, 16, 18]"
      ]
     },
     "execution_count": 40,
     "metadata": {},
     "output_type": "execute_result"
    }
   ],
   "source": [
    "E = Array.new(10) { |e| e = e * 2 }\n",
    "E"
   ]
  },
  {
   "cell_type": "code",
   "execution_count": 41,
   "id": "7ec398b1-ea1a-466a-927b-f44d2d6d27e2",
   "metadata": {},
   "outputs": [
    {
     "data": {
      "text/plain": [
       "[4, 6, 8, 10, 12, 14, 16, 18]"
      ]
     },
     "execution_count": 41,
     "metadata": {},
     "output_type": "execute_result"
    }
   ],
   "source": [
    "E.reject {|a| a < 3}  "
   ]
  },
  {
   "cell_type": "code",
   "execution_count": 42,
   "id": "b5ec2cdc-c4fa-4ba4-92f1-9fd90446c1f8",
   "metadata": {},
   "outputs": [
    {
     "data": {
      "text/plain": [
       "[8, 10, 12, 14, 16, 18]"
      ]
     },
     "execution_count": 42,
     "metadata": {},
     "output_type": "execute_result"
    }
   ],
   "source": [
    "E.drop_while {|a| a < 7}"
   ]
  },
  {
   "cell_type": "code",
   "execution_count": 43,
   "id": "eac2ede8-c316-4a64-8572-96a04de3eb1c",
   "metadata": {},
   "outputs": [
    {
     "data": {
      "text/plain": [
       "[6, 8, 10, 12, 14, 16, 18]"
      ]
     },
     "execution_count": 43,
     "metadata": {},
     "output_type": "execute_result"
    }
   ],
   "source": [
    "E.delete_if {|a| a < 6} "
   ]
  },
  {
   "cell_type": "code",
   "execution_count": null,
   "id": "7e09873a-59a7-4ca2-be3e-2a132dbf9ffc",
   "metadata": {},
   "outputs": [],
   "source": []
  }
 ],
 "metadata": {
  "kernelspec": {
   "display_name": "Ruby 2.7.0",
   "language": "ruby",
   "name": "ruby"
  },
  "language_info": {
   "file_extension": ".rb",
   "mimetype": "application/x-ruby",
   "name": "ruby",
   "version": "2.7.0"
  }
 },
 "nbformat": 4,
 "nbformat_minor": 5
}
